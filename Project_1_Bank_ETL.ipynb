{
 "cells": [
  {
   "cell_type": "markdown",
   "id": "40e21e74",
   "metadata": {},
   "source": [
    "#### Import Necessary Libraries"
   ]
  },
  {
   "cell_type": "code",
   "execution_count": 1,
   "id": "07c91649",
   "metadata": {},
   "outputs": [],
   "source": [
    "import os\n",
    "import json\n",
    "import numpy\n",
    "import datetime\n",
    "import pprint\n",
    "import requests\n",
    "import requests.exceptions\n",
    "import pandas as pd\n",
    "\n",
    "import pymongo\n",
    "from sqlalchemy import create_engine"
   ]
  },
  {
   "cell_type": "markdown",
   "id": "c86afa73",
   "metadata": {},
   "source": [
    "# Part 1: SQL Data"
   ]
  },
  {
   "cell_type": "markdown",
   "id": "9101047d",
   "metadata": {},
   "source": [
    "#### Connection Variables"
   ]
  },
  {
   "cell_type": "code",
   "execution_count": 2,
   "id": "cdcfaaa8",
   "metadata": {},
   "outputs": [],
   "source": [
    "host_name = \"localhost\"\n",
    "host_ip = \"127.0.0.1\"\n",
    "port = \"3306\"\n",
    "user_id = \"root\"\n",
    "pwd = \"AccessSQL\"\n",
    "\n",
    "src_dbname = \"bank_db\"\n",
    "dst_dbname = \"Bank_DW\""
   ]
  },
  {
   "cell_type": "markdown",
   "id": "2fb62dbd",
   "metadata": {},
   "source": [
    "#### Define SQL Functions"
   ]
  },
  {
   "cell_type": "code",
   "execution_count": 3,
   "id": "bb231517",
   "metadata": {},
   "outputs": [],
   "source": [
    "def get_dataframe(user_id, pwd, host_name, db_name, sql_query):\n",
    "    conn_str = f\"mysql+pymysql://{user_id}:{pwd}@{host_name}/{db_name}\"\n",
    "    sqlEngine = create_engine(conn_str, pool_recycle=3600)\n",
    "    connection = sqlEngine.connect()\n",
    "    dframe = pd.read_sql(sql_query, connection);\n",
    "    connection.close()\n",
    "    \n",
    "    return dframe\n",
    "\n",
    "\n",
    "def set_dataframe(user_id, pwd, host_name, db_name, df, table_name, pk_column, db_operation):\n",
    "    conn_str = f\"mysql+pymysql://{user_id}:{pwd}@{host_name}/{db_name}\"\n",
    "    sqlEngine = create_engine(conn_str, pool_recycle=3600)\n",
    "    connection = sqlEngine.connect()\n",
    "    \n",
    "    if db_operation == \"insert\":\n",
    "        df.to_sql(table_name, con=connection, index=False, if_exists='replace')\n",
    "        sqlEngine.execute(f\"ALTER TABLE {table_name} ADD PRIMARY KEY ({pk_column});\")\n",
    "            \n",
    "    elif db_operation == \"update\":\n",
    "        df.to_sql(table_name, con=connection, index=False, if_exists='append')\n",
    "    \n",
    "    connection.close()"
   ]
  },
  {
   "cell_type": "markdown",
   "id": "f3e54b4d",
   "metadata": {},
   "source": [
    "#### Create Switch Connection Text and new Data Warehouse"
   ]
  },
  {
   "cell_type": "code",
   "execution_count": 4,
   "id": "9f0030e4",
   "metadata": {},
   "outputs": [
    {
     "data": {
      "text/plain": [
       "<sqlalchemy.engine.cursor.LegacyCursorResult at 0x7fcf779d4880>"
      ]
     },
     "execution_count": 4,
     "metadata": {},
     "output_type": "execute_result"
    }
   ],
   "source": [
    "conn_str = f\"mysql+pymysql://{user_id}:{pwd}@{host_name}\"\n",
    "sqlEngine = create_engine(conn_str, pool_recycle=3600)\n",
    "\n",
    "sqlEngine.execute(f\"DROP DATABASE IF EXISTS `{dst_dbname}`;\")\n",
    "sqlEngine.execute(f\"CREATE DATABASE `{dst_dbname}`;\")\n",
    "sqlEngine.execute(f\"USE {dst_dbname};\")"
   ]
  },
  {
   "cell_type": "markdown",
   "id": "09a5221a",
   "metadata": {},
   "source": [
    "#### Extract Source Data from Account, Account Transaction, Product, and Product Type"
   ]
  },
  {
   "cell_type": "code",
   "execution_count": 5,
   "id": "749a4d4d",
   "metadata": {},
   "outputs": [
    {
     "data": {
      "text/html": [
       "<div>\n",
       "<style scoped>\n",
       "    .dataframe tbody tr th:only-of-type {\n",
       "        vertical-align: middle;\n",
       "    }\n",
       "\n",
       "    .dataframe tbody tr th {\n",
       "        vertical-align: top;\n",
       "    }\n",
       "\n",
       "    .dataframe thead th {\n",
       "        text-align: right;\n",
       "    }\n",
       "</style>\n",
       "<table border=\"1\" class=\"dataframe\">\n",
       "  <thead>\n",
       "    <tr style=\"text-align: right;\">\n",
       "      <th></th>\n",
       "      <th>ACCOUNT_ID</th>\n",
       "      <th>AVAIL_BALANCE</th>\n",
       "      <th>CLOSE_DATE</th>\n",
       "      <th>LAST_ACTIVITY_DATE</th>\n",
       "      <th>OPEN_DATE</th>\n",
       "      <th>PENDING_BALANCE</th>\n",
       "      <th>STATUS</th>\n",
       "      <th>CUST_ID</th>\n",
       "      <th>OPEN_BRANCH_ID</th>\n",
       "      <th>OPEN_EMP_ID</th>\n",
       "      <th>PRODUCT_CD</th>\n",
       "    </tr>\n",
       "  </thead>\n",
       "  <tbody>\n",
       "    <tr>\n",
       "      <th>0</th>\n",
       "      <td>1</td>\n",
       "      <td>1057.75</td>\n",
       "      <td>None</td>\n",
       "      <td>2005-01-04</td>\n",
       "      <td>2000-01-15</td>\n",
       "      <td>1057.75</td>\n",
       "      <td>ACTIVE</td>\n",
       "      <td>1</td>\n",
       "      <td>2</td>\n",
       "      <td>10</td>\n",
       "      <td>CHK</td>\n",
       "    </tr>\n",
       "    <tr>\n",
       "      <th>1</th>\n",
       "      <td>2</td>\n",
       "      <td>500.00</td>\n",
       "      <td>None</td>\n",
       "      <td>2004-12-19</td>\n",
       "      <td>2000-01-15</td>\n",
       "      <td>500.00</td>\n",
       "      <td>ACTIVE</td>\n",
       "      <td>1</td>\n",
       "      <td>2</td>\n",
       "      <td>10</td>\n",
       "      <td>SAV</td>\n",
       "    </tr>\n",
       "  </tbody>\n",
       "</table>\n",
       "</div>"
      ],
      "text/plain": [
       "   ACCOUNT_ID  AVAIL_BALANCE CLOSE_DATE LAST_ACTIVITY_DATE   OPEN_DATE  \\\n",
       "0           1        1057.75       None         2005-01-04  2000-01-15   \n",
       "1           2         500.00       None         2004-12-19  2000-01-15   \n",
       "\n",
       "   PENDING_BALANCE  STATUS  CUST_ID  OPEN_BRANCH_ID  OPEN_EMP_ID PRODUCT_CD  \n",
       "0          1057.75  ACTIVE        1               2           10        CHK  \n",
       "1           500.00  ACTIVE        1               2           10        SAV  "
      ]
     },
     "execution_count": 5,
     "metadata": {},
     "output_type": "execute_result"
    }
   ],
   "source": [
    "sql_account = \"SELECT * FROM account;\"\n",
    "df_account = get_dataframe(user_id, pwd, host_name, src_dbname, sql_account)\n",
    "df_account.head(2)"
   ]
  },
  {
   "cell_type": "code",
   "execution_count": 6,
   "id": "83c1208b",
   "metadata": {},
   "outputs": [
    {
     "data": {
      "text/html": [
       "<div>\n",
       "<style scoped>\n",
       "    .dataframe tbody tr th:only-of-type {\n",
       "        vertical-align: middle;\n",
       "    }\n",
       "\n",
       "    .dataframe tbody tr th {\n",
       "        vertical-align: top;\n",
       "    }\n",
       "\n",
       "    .dataframe thead th {\n",
       "        text-align: right;\n",
       "    }\n",
       "</style>\n",
       "<table border=\"1\" class=\"dataframe\">\n",
       "  <thead>\n",
       "    <tr style=\"text-align: right;\">\n",
       "      <th></th>\n",
       "      <th>TXN_ID</th>\n",
       "      <th>AMOUNT</th>\n",
       "      <th>FUNDS_AVAIL_DATE</th>\n",
       "      <th>TXN_DATE</th>\n",
       "      <th>TXN_TYPE_CD</th>\n",
       "      <th>ACCOUNT_ID</th>\n",
       "      <th>EXECUTION_BRANCH_ID</th>\n",
       "      <th>TELLER_EMP_ID</th>\n",
       "    </tr>\n",
       "  </thead>\n",
       "  <tbody>\n",
       "    <tr>\n",
       "      <th>0</th>\n",
       "      <td>1</td>\n",
       "      <td>100.0</td>\n",
       "      <td>2000-01-15</td>\n",
       "      <td>2000-01-15</td>\n",
       "      <td>CDT</td>\n",
       "      <td>1</td>\n",
       "      <td>None</td>\n",
       "      <td>None</td>\n",
       "    </tr>\n",
       "    <tr>\n",
       "      <th>1</th>\n",
       "      <td>2</td>\n",
       "      <td>100.0</td>\n",
       "      <td>2000-01-15</td>\n",
       "      <td>2000-01-15</td>\n",
       "      <td>CDT</td>\n",
       "      <td>2</td>\n",
       "      <td>None</td>\n",
       "      <td>None</td>\n",
       "    </tr>\n",
       "  </tbody>\n",
       "</table>\n",
       "</div>"
      ],
      "text/plain": [
       "   TXN_ID  AMOUNT FUNDS_AVAIL_DATE   TXN_DATE TXN_TYPE_CD  ACCOUNT_ID  \\\n",
       "0       1   100.0       2000-01-15 2000-01-15         CDT           1   \n",
       "1       2   100.0       2000-01-15 2000-01-15         CDT           2   \n",
       "\n",
       "  EXECUTION_BRANCH_ID TELLER_EMP_ID  \n",
       "0                None          None  \n",
       "1                None          None  "
      ]
     },
     "execution_count": 6,
     "metadata": {},
     "output_type": "execute_result"
    }
   ],
   "source": [
    "sql_acc_txn = \"SELECT * FROM acc_transaction;\"\n",
    "df_acc_txn = get_dataframe(user_id, pwd, host_name, src_dbname, sql_acc_txn)\n",
    "df_acc_txn.head(2)"
   ]
  },
  {
   "cell_type": "code",
   "execution_count": 7,
   "id": "0b9ce8eb",
   "metadata": {},
   "outputs": [
    {
     "data": {
      "text/html": [
       "<div>\n",
       "<style scoped>\n",
       "    .dataframe tbody tr th:only-of-type {\n",
       "        vertical-align: middle;\n",
       "    }\n",
       "\n",
       "    .dataframe tbody tr th {\n",
       "        vertical-align: top;\n",
       "    }\n",
       "\n",
       "    .dataframe thead th {\n",
       "        text-align: right;\n",
       "    }\n",
       "</style>\n",
       "<table border=\"1\" class=\"dataframe\">\n",
       "  <thead>\n",
       "    <tr style=\"text-align: right;\">\n",
       "      <th></th>\n",
       "      <th>PRODUCT_CD</th>\n",
       "      <th>DATE_OFFERED</th>\n",
       "      <th>DATE_RETIRED</th>\n",
       "      <th>NAME</th>\n",
       "      <th>PRODUCT_TYPE_CD</th>\n",
       "    </tr>\n",
       "  </thead>\n",
       "  <tbody>\n",
       "    <tr>\n",
       "      <th>0</th>\n",
       "      <td>AUT</td>\n",
       "      <td>2000-01-01</td>\n",
       "      <td>None</td>\n",
       "      <td>auto loan</td>\n",
       "      <td>LOAN</td>\n",
       "    </tr>\n",
       "    <tr>\n",
       "      <th>1</th>\n",
       "      <td>BUS</td>\n",
       "      <td>2000-01-01</td>\n",
       "      <td>None</td>\n",
       "      <td>business line of credit</td>\n",
       "      <td>LOAN</td>\n",
       "    </tr>\n",
       "  </tbody>\n",
       "</table>\n",
       "</div>"
      ],
      "text/plain": [
       "  PRODUCT_CD DATE_OFFERED DATE_RETIRED                     NAME  \\\n",
       "0        AUT   2000-01-01         None                auto loan   \n",
       "1        BUS   2000-01-01         None  business line of credit   \n",
       "\n",
       "  PRODUCT_TYPE_CD  \n",
       "0            LOAN  \n",
       "1            LOAN  "
      ]
     },
     "execution_count": 7,
     "metadata": {},
     "output_type": "execute_result"
    }
   ],
   "source": [
    "sql_product = \"SELECT * FROM product;\"\n",
    "df_product = get_dataframe(user_id, pwd, host_name, src_dbname, sql_product)\n",
    "df_product.head(2)"
   ]
  },
  {
   "cell_type": "code",
   "execution_count": 8,
   "id": "91ec74b6",
   "metadata": {},
   "outputs": [
    {
     "data": {
      "text/html": [
       "<div>\n",
       "<style scoped>\n",
       "    .dataframe tbody tr th:only-of-type {\n",
       "        vertical-align: middle;\n",
       "    }\n",
       "\n",
       "    .dataframe tbody tr th {\n",
       "        vertical-align: top;\n",
       "    }\n",
       "\n",
       "    .dataframe thead th {\n",
       "        text-align: right;\n",
       "    }\n",
       "</style>\n",
       "<table border=\"1\" class=\"dataframe\">\n",
       "  <thead>\n",
       "    <tr style=\"text-align: right;\">\n",
       "      <th></th>\n",
       "      <th>PRODUCT_TYPE_CD</th>\n",
       "      <th>NAME</th>\n",
       "    </tr>\n",
       "  </thead>\n",
       "  <tbody>\n",
       "    <tr>\n",
       "      <th>0</th>\n",
       "      <td>ACCOUNT</td>\n",
       "      <td>Customer Accounts</td>\n",
       "    </tr>\n",
       "    <tr>\n",
       "      <th>1</th>\n",
       "      <td>INSURANCE</td>\n",
       "      <td>Insurance Offerings</td>\n",
       "    </tr>\n",
       "  </tbody>\n",
       "</table>\n",
       "</div>"
      ],
      "text/plain": [
       "  PRODUCT_TYPE_CD                 NAME\n",
       "0         ACCOUNT    Customer Accounts\n",
       "1       INSURANCE  Insurance Offerings"
      ]
     },
     "execution_count": 8,
     "metadata": {},
     "output_type": "execute_result"
    }
   ],
   "source": [
    "sql_prod_type = \"SELECT * FROM product_type;\"\n",
    "df_prod_type = get_dataframe(user_id, pwd, host_name, src_dbname, sql_prod_type)\n",
    "df_prod_type.head(2)"
   ]
  },
  {
   "cell_type": "markdown",
   "id": "3823f0cd",
   "metadata": {},
   "source": [
    "#### Merge product type into product, then perform necessary transformations"
   ]
  },
  {
   "cell_type": "code",
   "execution_count": 9,
   "id": "6ab1c687",
   "metadata": {},
   "outputs": [
    {
     "data": {
      "text/html": [
       "<div>\n",
       "<style scoped>\n",
       "    .dataframe tbody tr th:only-of-type {\n",
       "        vertical-align: middle;\n",
       "    }\n",
       "\n",
       "    .dataframe tbody tr th {\n",
       "        vertical-align: top;\n",
       "    }\n",
       "\n",
       "    .dataframe thead th {\n",
       "        text-align: right;\n",
       "    }\n",
       "</style>\n",
       "<table border=\"1\" class=\"dataframe\">\n",
       "  <thead>\n",
       "    <tr style=\"text-align: right;\">\n",
       "      <th></th>\n",
       "      <th>PRODUCT_CD</th>\n",
       "      <th>DATE_OFFERED</th>\n",
       "      <th>DATE_RETIRED</th>\n",
       "      <th>NAME_x</th>\n",
       "      <th>PRODUCT_TYPE_CD</th>\n",
       "      <th>NAME_y</th>\n",
       "    </tr>\n",
       "  </thead>\n",
       "  <tbody>\n",
       "    <tr>\n",
       "      <th>0</th>\n",
       "      <td>AUT</td>\n",
       "      <td>2000-01-01</td>\n",
       "      <td>None</td>\n",
       "      <td>auto loan</td>\n",
       "      <td>LOAN</td>\n",
       "      <td>Individual and Business Loans</td>\n",
       "    </tr>\n",
       "    <tr>\n",
       "      <th>1</th>\n",
       "      <td>BUS</td>\n",
       "      <td>2000-01-01</td>\n",
       "      <td>None</td>\n",
       "      <td>business line of credit</td>\n",
       "      <td>LOAN</td>\n",
       "      <td>Individual and Business Loans</td>\n",
       "    </tr>\n",
       "  </tbody>\n",
       "</table>\n",
       "</div>"
      ],
      "text/plain": [
       "  PRODUCT_CD DATE_OFFERED DATE_RETIRED                   NAME_x  \\\n",
       "0        AUT   2000-01-01         None                auto loan   \n",
       "1        BUS   2000-01-01         None  business line of credit   \n",
       "\n",
       "  PRODUCT_TYPE_CD                         NAME_y  \n",
       "0            LOAN  Individual and Business Loans  \n",
       "1            LOAN  Individual and Business Loans  "
      ]
     },
     "execution_count": 9,
     "metadata": {},
     "output_type": "execute_result"
    }
   ],
   "source": [
    "df_product = df_product.merge(df_prod_type, on='PRODUCT_TYPE_CD')\n",
    "df_product.head(2)"
   ]
  },
  {
   "cell_type": "code",
   "execution_count": 10,
   "id": "947af2f1",
   "metadata": {},
   "outputs": [
    {
     "data": {
      "text/html": [
       "<div>\n",
       "<style scoped>\n",
       "    .dataframe tbody tr th:only-of-type {\n",
       "        vertical-align: middle;\n",
       "    }\n",
       "\n",
       "    .dataframe tbody tr th {\n",
       "        vertical-align: top;\n",
       "    }\n",
       "\n",
       "    .dataframe thead th {\n",
       "        text-align: right;\n",
       "    }\n",
       "</style>\n",
       "<table border=\"1\" class=\"dataframe\">\n",
       "  <thead>\n",
       "    <tr style=\"text-align: right;\">\n",
       "      <th></th>\n",
       "      <th>PRODUCT_KEY</th>\n",
       "      <th>NAME</th>\n",
       "      <th>TYPE</th>\n",
       "    </tr>\n",
       "  </thead>\n",
       "  <tbody>\n",
       "    <tr>\n",
       "      <th>0</th>\n",
       "      <td>AUT</td>\n",
       "      <td>auto loan</td>\n",
       "      <td>Individual and Business Loans</td>\n",
       "    </tr>\n",
       "    <tr>\n",
       "      <th>1</th>\n",
       "      <td>BUS</td>\n",
       "      <td>business line of credit</td>\n",
       "      <td>Individual and Business Loans</td>\n",
       "    </tr>\n",
       "  </tbody>\n",
       "</table>\n",
       "</div>"
      ],
      "text/plain": [
       "  PRODUCT_KEY                     NAME                           TYPE\n",
       "0         AUT                auto loan  Individual and Business Loans\n",
       "1         BUS  business line of credit  Individual and Business Loans"
      ]
     },
     "execution_count": 10,
     "metadata": {},
     "output_type": "execute_result"
    }
   ],
   "source": [
    "drop_cols = ['DATE_OFFERED', 'DATE_RETIRED', 'PRODUCT_TYPE_CD']\n",
    "df_product.drop(drop_cols, axis=1, inplace=True)\n",
    "df_product.rename(columns={\"PRODUCT_CD\":\"PRODUCT_KEY\", \"NAME_x\":\"NAME\", \"NAME_y\":\"TYPE\"}, inplace=True)\n",
    "df_product.head(2)"
   ]
  },
  {
   "cell_type": "markdown",
   "id": "3aa52b4c",
   "metadata": {},
   "source": [
    "#### Merge product into account, then perform necessary transformations on account and account transaction"
   ]
  },
  {
   "cell_type": "code",
   "execution_count": 11,
   "id": "72dc0db2",
   "metadata": {
    "scrolled": true
   },
   "outputs": [
    {
     "data": {
      "text/html": [
       "<div>\n",
       "<style scoped>\n",
       "    .dataframe tbody tr th:only-of-type {\n",
       "        vertical-align: middle;\n",
       "    }\n",
       "\n",
       "    .dataframe tbody tr th {\n",
       "        vertical-align: top;\n",
       "    }\n",
       "\n",
       "    .dataframe thead th {\n",
       "        text-align: right;\n",
       "    }\n",
       "</style>\n",
       "<table border=\"1\" class=\"dataframe\">\n",
       "  <thead>\n",
       "    <tr style=\"text-align: right;\">\n",
       "      <th></th>\n",
       "      <th>ACCOUNT_ID</th>\n",
       "      <th>AVAIL_BALANCE</th>\n",
       "      <th>CLOSE_DATE</th>\n",
       "      <th>LAST_ACTIVITY_DATE</th>\n",
       "      <th>OPEN_DATE</th>\n",
       "      <th>PENDING_BALANCE</th>\n",
       "      <th>STATUS</th>\n",
       "      <th>CUST_ID</th>\n",
       "      <th>OPEN_BRANCH_ID</th>\n",
       "      <th>OPEN_EMP_ID</th>\n",
       "      <th>PRODUCT_CD</th>\n",
       "      <th>PRODUCT_KEY</th>\n",
       "      <th>NAME</th>\n",
       "      <th>TYPE</th>\n",
       "    </tr>\n",
       "  </thead>\n",
       "  <tbody>\n",
       "    <tr>\n",
       "      <th>0</th>\n",
       "      <td>1.0</td>\n",
       "      <td>1057.75</td>\n",
       "      <td>None</td>\n",
       "      <td>2005-01-04</td>\n",
       "      <td>2000-01-15</td>\n",
       "      <td>1057.75</td>\n",
       "      <td>ACTIVE</td>\n",
       "      <td>1.0</td>\n",
       "      <td>2.0</td>\n",
       "      <td>10.0</td>\n",
       "      <td>CHK</td>\n",
       "      <td>CHK</td>\n",
       "      <td>checking account</td>\n",
       "      <td>Customer Accounts</td>\n",
       "    </tr>\n",
       "    <tr>\n",
       "      <th>1</th>\n",
       "      <td>4.0</td>\n",
       "      <td>2258.02</td>\n",
       "      <td>None</td>\n",
       "      <td>2004-12-27</td>\n",
       "      <td>2001-03-12</td>\n",
       "      <td>2258.02</td>\n",
       "      <td>ACTIVE</td>\n",
       "      <td>2.0</td>\n",
       "      <td>2.0</td>\n",
       "      <td>10.0</td>\n",
       "      <td>CHK</td>\n",
       "      <td>CHK</td>\n",
       "      <td>checking account</td>\n",
       "      <td>Customer Accounts</td>\n",
       "    </tr>\n",
       "  </tbody>\n",
       "</table>\n",
       "</div>"
      ],
      "text/plain": [
       "   ACCOUNT_ID  AVAIL_BALANCE CLOSE_DATE LAST_ACTIVITY_DATE   OPEN_DATE  \\\n",
       "0         1.0        1057.75       None         2005-01-04  2000-01-15   \n",
       "1         4.0        2258.02       None         2004-12-27  2001-03-12   \n",
       "\n",
       "   PENDING_BALANCE  STATUS  CUST_ID  OPEN_BRANCH_ID  OPEN_EMP_ID PRODUCT_CD  \\\n",
       "0          1057.75  ACTIVE      1.0             2.0         10.0        CHK   \n",
       "1          2258.02  ACTIVE      2.0             2.0         10.0        CHK   \n",
       "\n",
       "  PRODUCT_KEY              NAME               TYPE  \n",
       "0         CHK  checking account  Customer Accounts  \n",
       "1         CHK  checking account  Customer Accounts  "
      ]
     },
     "execution_count": 11,
     "metadata": {},
     "output_type": "execute_result"
    }
   ],
   "source": [
    "df_account = df_account.merge(df_product, how='outer', left_on='PRODUCT_CD', right_on='PRODUCT_KEY')\n",
    "df_account.head(2)"
   ]
  },
  {
   "cell_type": "code",
   "execution_count": 12,
   "id": "32364b51",
   "metadata": {},
   "outputs": [
    {
     "data": {
      "text/html": [
       "<div>\n",
       "<style scoped>\n",
       "    .dataframe tbody tr th:only-of-type {\n",
       "        vertical-align: middle;\n",
       "    }\n",
       "\n",
       "    .dataframe tbody tr th {\n",
       "        vertical-align: top;\n",
       "    }\n",
       "\n",
       "    .dataframe thead th {\n",
       "        text-align: right;\n",
       "    }\n",
       "</style>\n",
       "<table border=\"1\" class=\"dataframe\">\n",
       "  <thead>\n",
       "    <tr style=\"text-align: right;\">\n",
       "      <th></th>\n",
       "      <th>ACC_KEY</th>\n",
       "      <th>AVAIL_BALANCE</th>\n",
       "      <th>CLOSE_DATE</th>\n",
       "      <th>LAST_ACTIVITY_DATE</th>\n",
       "      <th>OPEN_DATE</th>\n",
       "      <th>PENDING_BALANCE</th>\n",
       "      <th>CUST_ID</th>\n",
       "      <th>PROD_NAME</th>\n",
       "      <th>PROD_TYPE</th>\n",
       "    </tr>\n",
       "  </thead>\n",
       "  <tbody>\n",
       "    <tr>\n",
       "      <th>0</th>\n",
       "      <td>1.0</td>\n",
       "      <td>1057.75</td>\n",
       "      <td>None</td>\n",
       "      <td>2005-01-04</td>\n",
       "      <td>2000-01-15</td>\n",
       "      <td>1057.75</td>\n",
       "      <td>1.0</td>\n",
       "      <td>checking account</td>\n",
       "      <td>Customer Accounts</td>\n",
       "    </tr>\n",
       "    <tr>\n",
       "      <th>1</th>\n",
       "      <td>4.0</td>\n",
       "      <td>2258.02</td>\n",
       "      <td>None</td>\n",
       "      <td>2004-12-27</td>\n",
       "      <td>2001-03-12</td>\n",
       "      <td>2258.02</td>\n",
       "      <td>2.0</td>\n",
       "      <td>checking account</td>\n",
       "      <td>Customer Accounts</td>\n",
       "    </tr>\n",
       "  </tbody>\n",
       "</table>\n",
       "</div>"
      ],
      "text/plain": [
       "   ACC_KEY  AVAIL_BALANCE CLOSE_DATE LAST_ACTIVITY_DATE   OPEN_DATE  \\\n",
       "0      1.0        1057.75       None         2005-01-04  2000-01-15   \n",
       "1      4.0        2258.02       None         2004-12-27  2001-03-12   \n",
       "\n",
       "   PENDING_BALANCE  CUST_ID         PROD_NAME          PROD_TYPE  \n",
       "0          1057.75      1.0  checking account  Customer Accounts  \n",
       "1          2258.02      2.0  checking account  Customer Accounts  "
      ]
     },
     "execution_count": 12,
     "metadata": {},
     "output_type": "execute_result"
    }
   ],
   "source": [
    "drop_cols = ['STATUS', 'PRODUCT_CD', 'PRODUCT_KEY', 'OPEN_BRANCH_ID', 'OPEN_EMP_ID']\n",
    "df_account.drop(drop_cols, axis=1, inplace=True)\n",
    "df_account.rename(columns={\"NAME\":\"PROD_NAME\", \"TYPE\":\"PROD_TYPE\", \"ACCOUNT_ID\":\"ACC_KEY\", 'CUST_KEY':'CUST_ID'}, inplace=True)\n",
    "df_account = df_account.drop([24, 25])\n",
    "df_account.head(2)"
   ]
  },
  {
   "cell_type": "code",
   "execution_count": 13,
   "id": "55abdb00",
   "metadata": {},
   "outputs": [
    {
     "data": {
      "text/html": [
       "<div>\n",
       "<style scoped>\n",
       "    .dataframe tbody tr th:only-of-type {\n",
       "        vertical-align: middle;\n",
       "    }\n",
       "\n",
       "    .dataframe tbody tr th {\n",
       "        vertical-align: top;\n",
       "    }\n",
       "\n",
       "    .dataframe thead th {\n",
       "        text-align: right;\n",
       "    }\n",
       "</style>\n",
       "<table border=\"1\" class=\"dataframe\">\n",
       "  <thead>\n",
       "    <tr style=\"text-align: right;\">\n",
       "      <th></th>\n",
       "      <th>TXN_KEY</th>\n",
       "      <th>AMOUNT</th>\n",
       "      <th>TXN_DATE</th>\n",
       "      <th>TXN_TYPE</th>\n",
       "      <th>ACC_KEY</th>\n",
       "      <th>BRANCH_KEY</th>\n",
       "      <th>EMP_KEY</th>\n",
       "    </tr>\n",
       "  </thead>\n",
       "  <tbody>\n",
       "    <tr>\n",
       "      <th>0</th>\n",
       "      <td>1</td>\n",
       "      <td>100.0</td>\n",
       "      <td>2000-01-15</td>\n",
       "      <td>CDT</td>\n",
       "      <td>1</td>\n",
       "      <td>None</td>\n",
       "      <td>None</td>\n",
       "    </tr>\n",
       "    <tr>\n",
       "      <th>1</th>\n",
       "      <td>2</td>\n",
       "      <td>100.0</td>\n",
       "      <td>2000-01-15</td>\n",
       "      <td>CDT</td>\n",
       "      <td>2</td>\n",
       "      <td>None</td>\n",
       "      <td>None</td>\n",
       "    </tr>\n",
       "  </tbody>\n",
       "</table>\n",
       "</div>"
      ],
      "text/plain": [
       "   TXN_KEY  AMOUNT   TXN_DATE TXN_TYPE  ACC_KEY BRANCH_KEY EMP_KEY\n",
       "0        1   100.0 2000-01-15      CDT        1       None    None\n",
       "1        2   100.0 2000-01-15      CDT        2       None    None"
      ]
     },
     "execution_count": 13,
     "metadata": {},
     "output_type": "execute_result"
    }
   ],
   "source": [
    "drop_cols = ['FUNDS_AVAIL_DATE']\n",
    "df_acc_txn.drop(drop_cols, axis=1, inplace=True)\n",
    "df_acc_txn.rename(columns={\"TXN_ID\":\"TXN_KEY\", \"ACCOUNT_ID\":\"ACC_KEY\", \"EXECUTION_BRANCH_ID\":\"BRANCH_KEY\", \"TELLER_EMP_ID\":\"EMP_KEY\", \"TXN_TYPE_CD\":\"TXN_TYPE\"}, inplace=True)\n",
    "df_acc_txn.head(2)"
   ]
  },
  {
   "cell_type": "markdown",
   "id": "75f474d8",
   "metadata": {},
   "source": [
    "# Part 2: MongoDB Data"
   ]
  },
  {
   "cell_type": "markdown",
   "id": "66d5c079",
   "metadata": {},
   "source": [
    "#### Update Connection Variables from SQL to MongoDB"
   ]
  },
  {
   "cell_type": "code",
   "execution_count": 14,
   "id": "9f83e1a4",
   "metadata": {},
   "outputs": [],
   "source": [
    "host_name = \"localhost\"\n",
    "ports = {\"mongo\" : 27017, \"mysql\" : 3306}\n",
    "\n",
    "user_id = \"root\"\n",
    "pwd = \"AccessSQL\"\n",
    "\n",
    "atlas_cluster_name = \"cluster0\"\n",
    "atlas_default_dbname = \"admin\"\n",
    "atlas_user_name = \"adamsnyder\"\n",
    "atlas_password = \"AccessMongo\"\n",
    "conn_string_chars = \"sorbu3t\"\n",
    "\n",
    "conn_str = {\"local\" : f\"mongodb://{host_name}:{ports['mongo']}/\",\n",
    "    \"atlas\" : f\"mongodb+srv://{atlas_user_name}:{atlas_password}@{atlas_cluster_name}.{conn_string_chars}.mongodb.net/{atlas_default_dbname}?retryWrites=true&w=majority\"\n",
    "}"
   ]
  },
  {
   "cell_type": "markdown",
   "id": "a6d6f5e1",
   "metadata": {},
   "source": [
    "#### Define MongoDB Functions"
   ]
  },
  {
   "cell_type": "code",
   "execution_count": 15,
   "id": "decbb3c3",
   "metadata": {},
   "outputs": [],
   "source": [
    "def get_sql_dataframe(user_id, pwd, host_name, db_name, sql_query):\n",
    "    '''Create a connection to the MySQL database'''\n",
    "    conn_str = f\"mysql+pymysql://{user_id}:{pwd}@{host_name}/{db_name}\"\n",
    "    sqlEngine = create_engine(conn_str, pool_recycle=3600)\n",
    "    \n",
    "    '''Invoke the pd.read_sql() function to query the database, and fill a Pandas DataFrame.'''\n",
    "    conn = sqlEngine.connect()\n",
    "    dframe = pd.read_sql(sql_query, conn);\n",
    "    conn.close()\n",
    "    \n",
    "    return dframe\n",
    "\n",
    "\n",
    "def get_mongo_dataframe(connect_str, db_name, collection, query):\n",
    "    '''Create a connection to MongoDB'''\n",
    "    client = pymongo.MongoClient(connect_str)\n",
    "    \n",
    "    '''Query MongoDB, and fill a python list with documents to create a DataFrame'''\n",
    "    db = client[db_name]\n",
    "    dframe = pd.DataFrame(list(db[collection].find(query)))\n",
    "    dframe.drop(['_id'], axis=1, inplace=True)\n",
    "    client.close()\n",
    "    return dframe\n",
    "\n",
    "\n",
    "def get_mongo_dataframe_local(user_id, pwd, host_name, port, db_name, collection, query):\n",
    "    '''Create a connection to MongoDB, with or without authentication credentials'''\n",
    "    if user_id and pwd:\n",
    "        mongo_uri = 'mongodb://%s:%s@%s:%s/%s' % (username, password, host, port, db_name)\n",
    "        client = pymongo.MongoClient(mongo_uri)\n",
    "    else:\n",
    "        conn_str = f\"mongodb://{host_name}:{port}/\"\n",
    "        client = pymongo.MongoClient(conn_str)\n",
    "    \n",
    "    '''Query MongoDB, and fill a python list with documents to create a DataFrame'''\n",
    "    db = client[db_name]\n",
    "    dframe = pd.DataFrame(list(db[collection].find(query)))\n",
    "    dframe.drop(['_id'], axis=1, inplace=True)\n",
    "    client.close()\n",
    "    \n",
    "    return dframe\n",
    "\n",
    "\n",
    "def set_dataframe(user_id, pwd, host_name, db_name, df, table_name, pk_column, db_operation):\n",
    "    '''Create a connection to the MySQL database'''\n",
    "    conn_str = f\"mysql+pymysql://{user_id}:{pwd}@{host_name}/{db_name}\"\n",
    "    sqlEngine = create_engine(conn_str, pool_recycle=3600)\n",
    "    connection = sqlEngine.connect()\n",
    "    \n",
    "    '''Invoke the Pandas DataFrame .to_sql( ) function to either create, or append to, a table'''\n",
    "    if db_operation == \"insert\":\n",
    "        df.to_sql(table_name, con=connection, index=False, if_exists='replace')\n",
    "        sqlEngine.execute(f\"ALTER TABLE {table_name} ADD PRIMARY KEY ({pk_column});\")\n",
    "            \n",
    "    elif db_operation == \"update\":\n",
    "        df.to_sql(table_name, con=connection, index=False, if_exists='append')\n",
    "    \n",
    "    connection.close()"
   ]
  },
  {
   "cell_type": "markdown",
   "id": "cfb60744",
   "metadata": {},
   "source": [
    "#### Populate MongoDB With Employee and Department data"
   ]
  },
  {
   "cell_type": "code",
   "execution_count": null,
   "id": "21619919",
   "metadata": {},
   "outputs": [],
   "source": [
    "# **DO NOT RUN THIS CELL AGAIN**"
   ]
  },
  {
   "cell_type": "code",
   "execution_count": 26,
   "id": "7503f84c",
   "metadata": {},
   "outputs": [],
   "source": [
    "client = pymongo.MongoClient(conn_str[\"atlas\"])\n",
    "db = client[src_dbname]\n",
    "\n",
    "data_dir = os.path.join(os.getcwd(), 'data')\n",
    "\n",
    "json_files = {\"DEPARTMENT\" : \"bank_department.json\", \"EMPLOYEE\":\"bank_employee.json\"}\n",
    "\n",
    "for file in json_files:\n",
    "    json_file = os.path.join(data_dir, json_files[file])\n",
    "    with open(json_file, 'r') as openfile:\n",
    "        json_object = json.load(openfile)\n",
    "        file = db[file]\n",
    "        result = file.insert_many(json_object)\n",
    "        #print(f\"{file} was successfully loaded.\")\n",
    "\n",
    "        \n",
    "client.close()        "
   ]
  },
  {
   "cell_type": "markdown",
   "id": "f130400b",
   "metadata": {},
   "source": [
    "#### Extract data into a dataframe"
   ]
  },
  {
   "cell_type": "code",
   "execution_count": 16,
   "id": "b484ee9b",
   "metadata": {},
   "outputs": [
    {
     "data": {
      "text/html": [
       "<div>\n",
       "<style scoped>\n",
       "    .dataframe tbody tr th:only-of-type {\n",
       "        vertical-align: middle;\n",
       "    }\n",
       "\n",
       "    .dataframe tbody tr th {\n",
       "        vertical-align: top;\n",
       "    }\n",
       "\n",
       "    .dataframe thead th {\n",
       "        text-align: right;\n",
       "    }\n",
       "</style>\n",
       "<table border=\"1\" class=\"dataframe\">\n",
       "  <thead>\n",
       "    <tr style=\"text-align: right;\">\n",
       "      <th></th>\n",
       "      <th>EMP_ID</th>\n",
       "      <th>END_DATE</th>\n",
       "      <th>FIRST_NAME</th>\n",
       "      <th>LAST_NAME</th>\n",
       "      <th>START_DATE</th>\n",
       "      <th>TITLE</th>\n",
       "      <th>ASSIGNED_BRANCH_ID</th>\n",
       "      <th>DEPT_ID</th>\n",
       "      <th>SUPERIOR_EMP_ID</th>\n",
       "    </tr>\n",
       "  </thead>\n",
       "  <tbody>\n",
       "    <tr>\n",
       "      <th>0</th>\n",
       "      <td>1</td>\n",
       "      <td>None</td>\n",
       "      <td>Michael</td>\n",
       "      <td>Smith</td>\n",
       "      <td>2001-06-22</td>\n",
       "      <td>President</td>\n",
       "      <td>1</td>\n",
       "      <td>3</td>\n",
       "      <td>NaN</td>\n",
       "    </tr>\n",
       "    <tr>\n",
       "      <th>1</th>\n",
       "      <td>2</td>\n",
       "      <td>None</td>\n",
       "      <td>Susan</td>\n",
       "      <td>Barker</td>\n",
       "      <td>2002-09-12</td>\n",
       "      <td>Vice President</td>\n",
       "      <td>1</td>\n",
       "      <td>3</td>\n",
       "      <td>1.0</td>\n",
       "    </tr>\n",
       "  </tbody>\n",
       "</table>\n",
       "</div>"
      ],
      "text/plain": [
       "   EMP_ID END_DATE FIRST_NAME LAST_NAME  START_DATE           TITLE  \\\n",
       "0       1     None    Michael     Smith  2001-06-22       President   \n",
       "1       2     None      Susan    Barker  2002-09-12  Vice President   \n",
       "\n",
       "   ASSIGNED_BRANCH_ID  DEPT_ID  SUPERIOR_EMP_ID  \n",
       "0                   1        3              NaN  \n",
       "1                   1        3              1.0  "
      ]
     },
     "execution_count": 16,
     "metadata": {},
     "output_type": "execute_result"
    }
   ],
   "source": [
    "query = {}\n",
    "collection = \"EMPLOYEE\"\n",
    "\n",
    "df_employee = get_mongo_dataframe(conn_str['atlas'], src_dbname, collection, query)\n",
    "df_employee.head(2)"
   ]
  },
  {
   "cell_type": "code",
   "execution_count": 17,
   "id": "78e9772e",
   "metadata": {},
   "outputs": [
    {
     "data": {
      "text/html": [
       "<div>\n",
       "<style scoped>\n",
       "    .dataframe tbody tr th:only-of-type {\n",
       "        vertical-align: middle;\n",
       "    }\n",
       "\n",
       "    .dataframe tbody tr th {\n",
       "        vertical-align: top;\n",
       "    }\n",
       "\n",
       "    .dataframe thead th {\n",
       "        text-align: right;\n",
       "    }\n",
       "</style>\n",
       "<table border=\"1\" class=\"dataframe\">\n",
       "  <thead>\n",
       "    <tr style=\"text-align: right;\">\n",
       "      <th></th>\n",
       "      <th>DEPT_ID</th>\n",
       "      <th>NAME</th>\n",
       "    </tr>\n",
       "  </thead>\n",
       "  <tbody>\n",
       "    <tr>\n",
       "      <th>0</th>\n",
       "      <td>1</td>\n",
       "      <td>Operations</td>\n",
       "    </tr>\n",
       "    <tr>\n",
       "      <th>1</th>\n",
       "      <td>2</td>\n",
       "      <td>Loans</td>\n",
       "    </tr>\n",
       "  </tbody>\n",
       "</table>\n",
       "</div>"
      ],
      "text/plain": [
       "   DEPT_ID        NAME\n",
       "0        1  Operations\n",
       "1        2       Loans"
      ]
     },
     "execution_count": 17,
     "metadata": {},
     "output_type": "execute_result"
    }
   ],
   "source": [
    "query = {}\n",
    "collection = \"DEPARTMENT\"\n",
    "\n",
    "df_department = get_mongo_dataframe(conn_str['atlas'], src_dbname, collection, query)\n",
    "df_department.head(2)"
   ]
  },
  {
   "cell_type": "markdown",
   "id": "8ee5e979",
   "metadata": {},
   "source": [
    "#### Merge the Department dataframe into Employee, then perform transformations on new Employee dataframe"
   ]
  },
  {
   "cell_type": "code",
   "execution_count": 18,
   "id": "197f5869",
   "metadata": {},
   "outputs": [
    {
     "data": {
      "text/html": [
       "<div>\n",
       "<style scoped>\n",
       "    .dataframe tbody tr th:only-of-type {\n",
       "        vertical-align: middle;\n",
       "    }\n",
       "\n",
       "    .dataframe tbody tr th {\n",
       "        vertical-align: top;\n",
       "    }\n",
       "\n",
       "    .dataframe thead th {\n",
       "        text-align: right;\n",
       "    }\n",
       "</style>\n",
       "<table border=\"1\" class=\"dataframe\">\n",
       "  <thead>\n",
       "    <tr style=\"text-align: right;\">\n",
       "      <th></th>\n",
       "      <th>EMP_ID</th>\n",
       "      <th>END_DATE</th>\n",
       "      <th>FIRST_NAME</th>\n",
       "      <th>LAST_NAME</th>\n",
       "      <th>START_DATE</th>\n",
       "      <th>TITLE</th>\n",
       "      <th>ASSIGNED_BRANCH_ID</th>\n",
       "      <th>DEPT_ID</th>\n",
       "      <th>SUPERIOR_EMP_ID</th>\n",
       "      <th>NAME</th>\n",
       "    </tr>\n",
       "  </thead>\n",
       "  <tbody>\n",
       "    <tr>\n",
       "      <th>0</th>\n",
       "      <td>1.0</td>\n",
       "      <td>None</td>\n",
       "      <td>Michael</td>\n",
       "      <td>Smith</td>\n",
       "      <td>2001-06-22</td>\n",
       "      <td>President</td>\n",
       "      <td>1.0</td>\n",
       "      <td>3</td>\n",
       "      <td>NaN</td>\n",
       "      <td>Administration</td>\n",
       "    </tr>\n",
       "    <tr>\n",
       "      <th>1</th>\n",
       "      <td>2.0</td>\n",
       "      <td>None</td>\n",
       "      <td>Susan</td>\n",
       "      <td>Barker</td>\n",
       "      <td>2002-09-12</td>\n",
       "      <td>Vice President</td>\n",
       "      <td>1.0</td>\n",
       "      <td>3</td>\n",
       "      <td>1.0</td>\n",
       "      <td>Administration</td>\n",
       "    </tr>\n",
       "  </tbody>\n",
       "</table>\n",
       "</div>"
      ],
      "text/plain": [
       "   EMP_ID END_DATE FIRST_NAME LAST_NAME  START_DATE           TITLE  \\\n",
       "0     1.0     None    Michael     Smith  2001-06-22       President   \n",
       "1     2.0     None      Susan    Barker  2002-09-12  Vice President   \n",
       "\n",
       "   ASSIGNED_BRANCH_ID  DEPT_ID  SUPERIOR_EMP_ID            NAME  \n",
       "0                 1.0        3              NaN  Administration  \n",
       "1                 1.0        3              1.0  Administration  "
      ]
     },
     "execution_count": 18,
     "metadata": {},
     "output_type": "execute_result"
    }
   ],
   "source": [
    "df_employee = df_employee.merge(df_department, how='outer', left_on='DEPT_ID', right_on=\"DEPT_ID\")\n",
    "df_employee.head(2)"
   ]
  },
  {
   "cell_type": "code",
   "execution_count": 19,
   "id": "cbb7995d",
   "metadata": {},
   "outputs": [
    {
     "data": {
      "text/html": [
       "<div>\n",
       "<style scoped>\n",
       "    .dataframe tbody tr th:only-of-type {\n",
       "        vertical-align: middle;\n",
       "    }\n",
       "\n",
       "    .dataframe tbody tr th {\n",
       "        vertical-align: top;\n",
       "    }\n",
       "\n",
       "    .dataframe thead th {\n",
       "        text-align: right;\n",
       "    }\n",
       "</style>\n",
       "<table border=\"1\" class=\"dataframe\">\n",
       "  <thead>\n",
       "    <tr style=\"text-align: right;\">\n",
       "      <th></th>\n",
       "      <th>EMP_KEY</th>\n",
       "      <th>END_DATE</th>\n",
       "      <th>FIRST_NAME</th>\n",
       "      <th>LAST_NAME</th>\n",
       "      <th>START_DATE</th>\n",
       "      <th>TITLE</th>\n",
       "      <th>BRANCH_Key</th>\n",
       "      <th>SUPERIOR_KEY</th>\n",
       "      <th>DEPT</th>\n",
       "    </tr>\n",
       "  </thead>\n",
       "  <tbody>\n",
       "    <tr>\n",
       "      <th>0</th>\n",
       "      <td>1.0</td>\n",
       "      <td>None</td>\n",
       "      <td>Michael</td>\n",
       "      <td>Smith</td>\n",
       "      <td>2001-06-22</td>\n",
       "      <td>President</td>\n",
       "      <td>1.0</td>\n",
       "      <td>NaN</td>\n",
       "      <td>Administration</td>\n",
       "    </tr>\n",
       "    <tr>\n",
       "      <th>1</th>\n",
       "      <td>2.0</td>\n",
       "      <td>None</td>\n",
       "      <td>Susan</td>\n",
       "      <td>Barker</td>\n",
       "      <td>2002-09-12</td>\n",
       "      <td>Vice President</td>\n",
       "      <td>1.0</td>\n",
       "      <td>1.0</td>\n",
       "      <td>Administration</td>\n",
       "    </tr>\n",
       "  </tbody>\n",
       "</table>\n",
       "</div>"
      ],
      "text/plain": [
       "   EMP_KEY END_DATE FIRST_NAME LAST_NAME  START_DATE           TITLE  \\\n",
       "0      1.0     None    Michael     Smith  2001-06-22       President   \n",
       "1      2.0     None      Susan    Barker  2002-09-12  Vice President   \n",
       "\n",
       "   BRANCH_Key  SUPERIOR_KEY            DEPT  \n",
       "0         1.0           NaN  Administration  \n",
       "1         1.0           1.0  Administration  "
      ]
     },
     "execution_count": 19,
     "metadata": {},
     "output_type": "execute_result"
    }
   ],
   "source": [
    "drop_cols = ['DEPT_ID']\n",
    "df_employee.drop(drop_cols, axis=1, inplace=True)\n",
    "df_employee.rename(columns={\"EMP_ID\":\"EMP_KEY\", \"ASSIGNED_BRANCH_ID\":\"BRANCH_Key\", \"NAME\":\"DEPT\", \"SUPERIOR_EMP_ID\":\"SUPERIOR_KEY\"}, inplace=True)\n",
    "df_employee = df_employee.drop(18)\n",
    "df_employee.head(2)"
   ]
  },
  {
   "cell_type": "markdown",
   "id": "42763d67",
   "metadata": {},
   "source": [
    "# Part 3: Extracting CSV data from API"
   ]
  },
  {
   "cell_type": "markdown",
   "id": "4bee66d3",
   "metadata": {},
   "source": [
    "#### Defining response function with error handling"
   ]
  },
  {
   "cell_type": "code",
   "execution_count": 20,
   "id": "1161739b",
   "metadata": {},
   "outputs": [],
   "source": [
    "def get_api_response(url, response_type):\n",
    "    try:\n",
    "        response = requests.get(url)\n",
    "        response.raise_for_status()\n",
    "    \n",
    "    except requests.exceptions.HTTPError as errh:\n",
    "        return \"An Http Error occurred: \" + repr(errh)\n",
    "    except requests.exceptions.ConnectionError as errc:\n",
    "        return \"An Error Connecting to the API occurred: \" + repr(errc)\n",
    "    except requests.exceptions.Timeout as errt:\n",
    "        return \"A Timeout Error occurred: \" + repr(errt)\n",
    "    except requests.exceptions.RequestException as err:\n",
    "        return \"An Unknown Error occurred: \" + repr(err)\n",
    "\n",
    "    if response_type == 'json':\n",
    "        result = json.dumps(response.json(), sort_keys=True, indent=4)\n",
    "    elif response_type == 'dataframe':\n",
    "        result = pd.json_normalize(response.json())\n",
    "    else:\n",
    "        result = \"An unhandled error has occurred!\"\n",
    "        \n",
    "    return result"
   ]
  },
  {
   "cell_type": "markdown",
   "id": "4883e625",
   "metadata": {},
   "source": [
    "#### Defining API variables"
   ]
  },
  {
   "cell_type": "code",
   "execution_count": 21,
   "id": "ad6e7649",
   "metadata": {},
   "outputs": [],
   "source": [
    "url = \"https://retoolapi.dev/Y0cknB/data\"\n",
    "# this API was generated using the bank_branch.csv file \n",
    "# on the website https://retool.com/utilities/generate-api-from-csv\n",
    "response_type = ['csv', 'dataframe']"
   ]
  },
  {
   "cell_type": "markdown",
   "id": "89b24213",
   "metadata": {},
   "source": [
    "#### Generating dataframe from API"
   ]
  },
  {
   "cell_type": "code",
   "execution_count": 22,
   "id": "687cb36e",
   "metadata": {},
   "outputs": [
    {
     "name": "stdout",
     "output_type": "stream",
     "text": [
      "(5, 7)\n",
      "Index(['id', 'CITY', 'NAME', 'STATE', 'ADDRESS', 'ZIP_CODE', 'BRANCH_ID'], dtype='object')\n"
     ]
    },
    {
     "data": {
      "text/html": [
       "<div>\n",
       "<style scoped>\n",
       "    .dataframe tbody tr th:only-of-type {\n",
       "        vertical-align: middle;\n",
       "    }\n",
       "\n",
       "    .dataframe tbody tr th {\n",
       "        vertical-align: top;\n",
       "    }\n",
       "\n",
       "    .dataframe thead th {\n",
       "        text-align: right;\n",
       "    }\n",
       "</style>\n",
       "<table border=\"1\" class=\"dataframe\">\n",
       "  <thead>\n",
       "    <tr style=\"text-align: right;\">\n",
       "      <th></th>\n",
       "      <th>id</th>\n",
       "      <th>CITY</th>\n",
       "      <th>NAME</th>\n",
       "      <th>STATE</th>\n",
       "      <th>ADDRESS</th>\n",
       "      <th>ZIP_CODE</th>\n",
       "      <th>BRANCH_ID</th>\n",
       "    </tr>\n",
       "  </thead>\n",
       "  <tbody>\n",
       "    <tr>\n",
       "      <th>0</th>\n",
       "      <td>1</td>\n",
       "      <td>Waltham</td>\n",
       "      <td>Headquarters</td>\n",
       "      <td>MA</td>\n",
       "      <td>3882 Main St.</td>\n",
       "      <td>02451</td>\n",
       "      <td>1</td>\n",
       "    </tr>\n",
       "    <tr>\n",
       "      <th>1</th>\n",
       "      <td>2</td>\n",
       "      <td>Woburn</td>\n",
       "      <td>Woburn Branch</td>\n",
       "      <td>MA</td>\n",
       "      <td>422 Maple St.</td>\n",
       "      <td>01801</td>\n",
       "      <td>2</td>\n",
       "    </tr>\n",
       "  </tbody>\n",
       "</table>\n",
       "</div>"
      ],
      "text/plain": [
       "   id     CITY           NAME STATE        ADDRESS ZIP_CODE BRANCH_ID\n",
       "0   1  Waltham   Headquarters    MA  3882 Main St.    02451         1\n",
       "1   2   Woburn  Woburn Branch    MA  422 Maple St.    01801         2"
      ]
     },
     "execution_count": 22,
     "metadata": {},
     "output_type": "execute_result"
    }
   ],
   "source": [
    "df_branch = get_api_response(url, response_type[1])\n",
    "print(df_branch.shape)\n",
    "print(df_branch.columns)\n",
    "\n",
    "df_branch.head(2)"
   ]
  },
  {
   "cell_type": "markdown",
   "id": "7a543223",
   "metadata": {},
   "source": [
    "#### Perform transformations on new branch dataframe"
   ]
  },
  {
   "cell_type": "code",
   "execution_count": 23,
   "id": "fccf77c1",
   "metadata": {},
   "outputs": [
    {
     "data": {
      "text/html": [
       "<div>\n",
       "<style scoped>\n",
       "    .dataframe tbody tr th:only-of-type {\n",
       "        vertical-align: middle;\n",
       "    }\n",
       "\n",
       "    .dataframe tbody tr th {\n",
       "        vertical-align: top;\n",
       "    }\n",
       "\n",
       "    .dataframe thead th {\n",
       "        text-align: right;\n",
       "    }\n",
       "</style>\n",
       "<table border=\"1\" class=\"dataframe\">\n",
       "  <thead>\n",
       "    <tr style=\"text-align: right;\">\n",
       "      <th></th>\n",
       "      <th>BRANCH_KEY</th>\n",
       "      <th>NAME</th>\n",
       "      <th>ADDRESS</th>\n",
       "      <th>STATE</th>\n",
       "      <th>ZIP_CODE</th>\n",
       "    </tr>\n",
       "  </thead>\n",
       "  <tbody>\n",
       "    <tr>\n",
       "      <th>0</th>\n",
       "      <td>1</td>\n",
       "      <td>Headquarters</td>\n",
       "      <td>3882 Main St.</td>\n",
       "      <td>MA</td>\n",
       "      <td>02451</td>\n",
       "    </tr>\n",
       "    <tr>\n",
       "      <th>1</th>\n",
       "      <td>2</td>\n",
       "      <td>Woburn Branch</td>\n",
       "      <td>422 Maple St.</td>\n",
       "      <td>MA</td>\n",
       "      <td>01801</td>\n",
       "    </tr>\n",
       "  </tbody>\n",
       "</table>\n",
       "</div>"
      ],
      "text/plain": [
       "   BRANCH_KEY           NAME        ADDRESS STATE ZIP_CODE\n",
       "0           1   Headquarters  3882 Main St.    MA    02451\n",
       "1           2  Woburn Branch  422 Maple St.    MA    01801"
      ]
     },
     "execution_count": 23,
     "metadata": {},
     "output_type": "execute_result"
    }
   ],
   "source": [
    "df_branch = df_branch[[\"BRANCH_ID\", \"NAME\", \"ADDRESS\", \"STATE\", \"ZIP_CODE\"]]\n",
    "df_branch.rename(columns={\"BRANCH_ID\":\"BRANCH_KEY\"}, inplace=True)\n",
    "df_branch = df_branch.drop(4)\n",
    "df_branch = df_branch.astype({'BRANCH_KEY': 'int32'})\n",
    "df_branch.head(2)"
   ]
  },
  {
   "cell_type": "markdown",
   "id": "d4cabbb7",
   "metadata": {},
   "source": [
    "# Part 4: Set new fact and dimension tables into SQL warehouse"
   ]
  },
  {
   "cell_type": "markdown",
   "id": "6c2babbf",
   "metadata": {},
   "source": [
    "#### Restate MySQL declaration variables"
   ]
  },
  {
   "cell_type": "code",
   "execution_count": 24,
   "id": "55cb300c",
   "metadata": {},
   "outputs": [],
   "source": [
    "host_name = \"localhost\"\n",
    "host_ip = \"127.0.0.1\"\n",
    "port = \"3306\"\n",
    "user_id = \"root\"\n",
    "pwd = \"AccessSQL\"\n",
    "\n",
    "src_dbname = \"bank_db\"\n",
    "dst_dbname = \"Bank_DW\""
   ]
  },
  {
   "cell_type": "markdown",
   "id": "c0f9142b",
   "metadata": {},
   "source": [
    "#### Create and populate fact and dimension tables"
   ]
  },
  {
   "cell_type": "code",
   "execution_count": 25,
   "id": "a956d94d",
   "metadata": {},
   "outputs": [],
   "source": [
    "db_operation = \"insert\"\n",
    "\n",
    "tables = [('fact_transactions', df_acc_txn, 'TXN_KEY'),\n",
    "          ('dim_account', df_account, 'ACC_KEY'),\n",
    "          ('dim_employee', df_employee, 'EMP_KEY'),\n",
    "          ('dim_branch', df_branch, 'BRANCH_KEY')]\n",
    "\n",
    "for table_name, dataframe, primary_key in tables:\n",
    "    set_dataframe(user_id, pwd, host_name, dst_dbname, dataframe, table_name, primary_key, db_operation)"
   ]
  },
  {
   "cell_type": "markdown",
   "id": "05dacd7c",
   "metadata": {},
   "source": [
    "# Part 5: Create, populate, and integrate dim date"
   ]
  },
  {
   "cell_type": "code",
   "execution_count": 26,
   "id": "9cfb6d2e",
   "metadata": {},
   "outputs": [],
   "source": [
    "# I ran my files Project1_Create_DimDate.sql and Project1_Integrate_DimDate.sql\n",
    "# in MySQL Workbench to create and integrate the date dimension table\n",
    "# This code can be found in my GitHub"
   ]
  },
  {
   "cell_type": "markdown",
   "id": "62311d38",
   "metadata": {},
   "source": [
    "# Part 6: Validate functionality of new data warehouse"
   ]
  },
  {
   "cell_type": "markdown",
   "id": "3e5452bd",
   "metadata": {},
   "source": [
    "#### First test query groups the fact_transaction table and dim_date table. It selects the transaction key and account number from the fact table and the date and day of the week from the dimension table."
   ]
  },
  {
   "cell_type": "code",
   "execution_count": 28,
   "id": "7a66dea7",
   "metadata": {
    "scrolled": false
   },
   "outputs": [],
   "source": [
    "query = f\"\"\"select ft.TXN_KEY as t_key,\n",
    "\tft.ACC_KEY as acc_num,\n",
    "\tft.TXN_DATE as t_date,\n",
    "\tdd.day_name_of_week as week_day\n",
    "from {dst_dbname}.fact_transactions as ft\n",
    "right join {dst_dbname}.dim_date as dd\n",
    "on ft.TXN_DATE_KEY = dd.date_key\n",
    "order by t_key desc\n",
    "limit 21;\"\"\"\n",
    "\n",
    "df_test1 = get_dataframe(user_id, pwd, host_name, src_dbname, query)"
   ]
  },
  {
   "cell_type": "code",
   "execution_count": 29,
   "id": "ea541085",
   "metadata": {},
   "outputs": [
    {
     "data": {
      "text/html": [
       "<div>\n",
       "<style scoped>\n",
       "    .dataframe tbody tr th:only-of-type {\n",
       "        vertical-align: middle;\n",
       "    }\n",
       "\n",
       "    .dataframe tbody tr th {\n",
       "        vertical-align: top;\n",
       "    }\n",
       "\n",
       "    .dataframe thead th {\n",
       "        text-align: right;\n",
       "    }\n",
       "</style>\n",
       "<table border=\"1\" class=\"dataframe\">\n",
       "  <thead>\n",
       "    <tr style=\"text-align: right;\">\n",
       "      <th></th>\n",
       "      <th>t_key</th>\n",
       "      <th>acc_num</th>\n",
       "      <th>t_date</th>\n",
       "      <th>week_day</th>\n",
       "    </tr>\n",
       "  </thead>\n",
       "  <tbody>\n",
       "    <tr>\n",
       "      <th>0</th>\n",
       "      <td>21</td>\n",
       "      <td>28</td>\n",
       "      <td>2003-07-30</td>\n",
       "      <td>Wednesday</td>\n",
       "    </tr>\n",
       "    <tr>\n",
       "      <th>1</th>\n",
       "      <td>20</td>\n",
       "      <td>24</td>\n",
       "      <td>2002-09-30</td>\n",
       "      <td>Monday</td>\n",
       "    </tr>\n",
       "    <tr>\n",
       "      <th>2</th>\n",
       "      <td>19</td>\n",
       "      <td>23</td>\n",
       "      <td>2004-06-30</td>\n",
       "      <td>Wednesday</td>\n",
       "    </tr>\n",
       "    <tr>\n",
       "      <th>3</th>\n",
       "      <td>18</td>\n",
       "      <td>22</td>\n",
       "      <td>2004-10-28</td>\n",
       "      <td>Thursday</td>\n",
       "    </tr>\n",
       "    <tr>\n",
       "      <th>4</th>\n",
       "      <td>17</td>\n",
       "      <td>21</td>\n",
       "      <td>2003-07-30</td>\n",
       "      <td>Wednesday</td>\n",
       "    </tr>\n",
       "  </tbody>\n",
       "</table>\n",
       "</div>"
      ],
      "text/plain": [
       "   t_key  acc_num     t_date   week_day\n",
       "0     21       28 2003-07-30  Wednesday\n",
       "1     20       24 2002-09-30     Monday\n",
       "2     19       23 2004-06-30  Wednesday\n",
       "3     18       22 2004-10-28   Thursday\n",
       "4     17       21 2003-07-30  Wednesday"
      ]
     },
     "execution_count": 29,
     "metadata": {},
     "output_type": "execute_result"
    }
   ],
   "source": [
    "df_test1.head(5)"
   ]
  },
  {
   "cell_type": "markdown",
   "id": "7109597e",
   "metadata": {},
   "source": [
    "#### Second test query aggregates the accounts by what product the account provides. For each product, the query selects the average balance in all accounts of that product type."
   ]
  },
  {
   "cell_type": "code",
   "execution_count": 30,
   "id": "243cfc6b",
   "metadata": {},
   "outputs": [],
   "source": [
    "query = f\"\"\"select PROD_NAME as product,\n",
    "\tavg(PENDING_BALANCE) as avg_balance\n",
    "from {dst_dbname}.dim_account\n",
    "group by product\n",
    "order by product;\"\"\"\n",
    "\n",
    "df_test2 = get_dataframe(user_id, pwd, host_name, src_dbname, query)"
   ]
  },
  {
   "cell_type": "code",
   "execution_count": 31,
   "id": "c3d2f149",
   "metadata": {},
   "outputs": [
    {
     "data": {
      "text/html": [
       "<div>\n",
       "<style scoped>\n",
       "    .dataframe tbody tr th:only-of-type {\n",
       "        vertical-align: middle;\n",
       "    }\n",
       "\n",
       "    .dataframe tbody tr th {\n",
       "        vertical-align: top;\n",
       "    }\n",
       "\n",
       "    .dataframe thead th {\n",
       "        text-align: right;\n",
       "    }\n",
       "</style>\n",
       "<table border=\"1\" class=\"dataframe\">\n",
       "  <thead>\n",
       "    <tr style=\"text-align: right;\">\n",
       "      <th></th>\n",
       "      <th>product</th>\n",
       "      <th>avg_balance</th>\n",
       "    </tr>\n",
       "  </thead>\n",
       "  <tbody>\n",
       "    <tr>\n",
       "      <th>0</th>\n",
       "      <td>business line of credit</td>\n",
       "      <td>4672.775</td>\n",
       "    </tr>\n",
       "    <tr>\n",
       "      <th>1</th>\n",
       "      <td>certificate of deposit</td>\n",
       "      <td>4875.000</td>\n",
       "    </tr>\n",
       "    <tr>\n",
       "      <th>2</th>\n",
       "      <td>checking account</td>\n",
       "      <td>7366.804</td>\n",
       "    </tr>\n",
       "    <tr>\n",
       "      <th>3</th>\n",
       "      <td>money market account</td>\n",
       "      <td>5848.380</td>\n",
       "    </tr>\n",
       "    <tr>\n",
       "      <th>4</th>\n",
       "      <td>savings account</td>\n",
       "      <td>463.940</td>\n",
       "    </tr>\n",
       "  </tbody>\n",
       "</table>\n",
       "</div>"
      ],
      "text/plain": [
       "                   product  avg_balance\n",
       "0  business line of credit     4672.775\n",
       "1   certificate of deposit     4875.000\n",
       "2         checking account     7366.804\n",
       "3     money market account     5848.380\n",
       "4          savings account      463.940"
      ]
     },
     "execution_count": 31,
     "metadata": {},
     "output_type": "execute_result"
    }
   ],
   "source": [
    "df_test2.head(5)"
   ]
  },
  {
   "cell_type": "code",
   "execution_count": null,
   "id": "f3e83886",
   "metadata": {},
   "outputs": [],
   "source": []
  }
 ],
 "metadata": {
  "kernelspec": {
   "display_name": "Python 3 (ipykernel)",
   "language": "python",
   "name": "python3"
  },
  "language_info": {
   "codemirror_mode": {
    "name": "ipython",
    "version": 3
   },
   "file_extension": ".py",
   "mimetype": "text/x-python",
   "name": "python",
   "nbconvert_exporter": "python",
   "pygments_lexer": "ipython3",
   "version": "3.9.7"
  }
 },
 "nbformat": 4,
 "nbformat_minor": 5
}
